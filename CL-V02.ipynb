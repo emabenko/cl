{
 "cells": [
  {
   "cell_type": "code",
   "execution_count": 2,
   "metadata": {
    "slideshow": {
     "slide_type": "skip"
    }
   },
   "outputs": [],
   "source": [
    "# ucitajmo potrebne podatke\n",
    "import re\n",
    "#from regex import test_re\n",
    "from regex import test_re"
   ]
  },
  {
   "cell_type": "markdown",
   "metadata": {
    "slideshow": {
     "slide_type": "slide"
    }
   },
   "source": [
    "# RacJez | Python | Regularni izrazi I\n",
    "\n",
    "Detaljnije o Python regexima u dokumentaciji [Python 3.7 Docs](https://docs.python.org/3/library/re.html). Testiranje i tumačenje regexa možete pogledati na: [regex101](https://regex101.com/)\n",
    "## Osnovno\n",
    "> __Regularni izrazi__ (regex) = poseban niz znakova dani kao uzorak (engl. *pattern*) koji pomaže pretražiti ili pronaći podudaranje unutar stringa.\n",
    "\n",
    "* Python biblioteka: `re`\n",
    "* regex izraz u Pythonu: `r\"pattern\"`\n",
    "\n",
    "Biblioteka `re` podržava prekompajlirane regex i regex kao string izraz `r'pattern'`.\n",
    "\n",
    "Opći oblici korištenja:\n",
    "> `regex = re.compile(pattern)`\n",
    "\n",
    "> `result = re.method(pattern, string)`\n",
    "\n",
    "__Koje `method` su podržane?__"
   ]
  },
  {
   "cell_type": "markdown",
   "metadata": {
    "slideshow": {
     "slide_type": "slide"
    }
   },
   "source": [
    "# REGEX | Funkcije `match()` \n",
    "```python\n",
    "re.match(pattern,string,flags=0)\n",
    "``` \n",
    "Funkcija pokušava podudarati regex izraz `pattern` u stringu `string` s opcijalnim zastavicama `flags`.\n",
    "\n",
    "__parametri__: \n",
    "  * `pattern` : regularni izraz s kojim sparujemo  \n",
    "  * `string`  : string koji se pretražuje za sparivanjem s uzorkom od početka tog stringa  \n",
    "  * `flags`   : modifikatori pretrage (`re.I,re.L,re.M,...`)\n",
    "  \n",
    "__return__ *vrijednost*:\n",
    "  * `match` objekt ako uspije, inače `None`\n",
    "  * metoda `group(num=0)` kao sučelje pristupu `match` objektu, `num>0` je broj podgrupe sparenih izraza"
   ]
  },
  {
   "cell_type": "code",
   "execution_count": 3,
   "metadata": {
    "slideshow": {
     "slide_type": "subslide"
    }
   },
   "outputs": [
    {
     "name": "stdout",
     "output_type": "stream",
     "text": [
      "matchObj.group() :  mačke su pametnije od pasa.\n"
     ]
    }
   ],
   "source": [
    "\n",
    "import re\n",
    "\n",
    "tekst = \"mačke su pametnije od pasa.\"\n",
    "#tekst = \"Macke su pametnije od pasa\"\n",
    "\n",
    "matchObj = re.match( r'Ma.ke su .*', tekst, re.M|re.I) # '(.*)su(.*?) .*'??? # multiline i ignore case\n",
    "\n",
    "if matchObj: \n",
    "    print(\"matchObj.group() : \", matchObj.group()) \n",
    "else: print(\"Nema podudaranja!!\")"
   ]
  },
  {
   "cell_type": "markdown",
   "metadata": {
    "slideshow": {
     "slide_type": "slide"
    }
   },
   "source": [
    "# REGEX | Funkcije `search()` \n",
    "```python\n",
    "re.search(pattern,string,flags=0)\n",
    "``` \n",
    "Funkcija pronalazi prvu pojavu od `pattern`  unutar `string` s opcijama `flags`\n",
    "\n",
    "__parametri__: \n",
    "  * `pattern` : regularni izraz s kojim podudaramo  \n",
    "  * `string`  : string koji se pretražuje za podudaranje s uzorkom na bilo kojem mjestu u stringu  \n",
    "  * `flags`   : modifikatori pretrage (`re.I,re.L,re.M,...`)\n",
    "  \n",
    "__return__ _vrijednost_:\n",
    "  * `match` objekt ako uspije, inače `None`\n",
    "  * metoda `group(num=0)` kao sučelje pristupu `match` objektu, `num>0` je broj podgrupe podudarnih izraza"
   ]
  },
  {
   "cell_type": "code",
   "execution_count": 4,
   "metadata": {
    "slideshow": {
     "slide_type": "subslide"
    }
   },
   "outputs": [
    {
     "name": "stdout",
     "output_type": "stream",
     "text": [
      "searchObj.group() :  Mačke su pametnije od pasa!\n"
     ]
    }
   ],
   "source": [
    "import re\n",
    "\n",
    "tekst = \"Mačke su pametnije od pasa!\";\n",
    "\n",
    "searchObj = re.search( r'Ma.ke su .*', tekst)\n",
    "\n",
    "if searchObj:\n",
    "    print (\"searchObj.group() : \", searchObj.group())\n",
    "        \n",
    "else:\n",
    "    print (\"Nisam pronašao !!\")"
   ]
  },
  {
   "cell_type": "markdown",
   "metadata": {
    "slideshow": {
     "slide_type": "slide"
    }
   },
   "source": [
    "# Razlika u `search()` i `match()`???\n",
    "`match` započinje podudaranje s početka stringa, dok `search` s proizvoljnog mjesta u stringu. "
   ]
  },
  {
   "cell_type": "code",
   "execution_count": 5,
   "metadata": {
    "slideshow": {
     "slide_type": "fragment"
    }
   },
   "outputs": [
    {
     "name": "stdout",
     "output_type": "stream",
     "text": [
      "Nema podudaranja!!!\n",
      "search --> searchObj.group() :  psi\n"
     ]
    }
   ],
   "source": [
    "import re\n",
    "\n",
    "tekst = \"Mačke su pametnije nego psi\"\n",
    "\n",
    "matchObj = re.match( r'psi', tekst)\n",
    "if matchObj:\n",
    "    print (\"match --> matchObj.group() : \", matchObj.group())\n",
    "else:\n",
    "    print (\"Nema podudaranja!!!\")\n",
    "\n",
    "searchObj = re.search( r'psi', tekst)\n",
    "if searchObj:\n",
    "    print (\"search --> searchObj.group() : \", searchObj.group())\n",
    "else:\n",
    "    print (\"Nema podudaranja!!!\")"
   ]
  },
  {
   "cell_type": "markdown",
   "metadata": {
    "slideshow": {
     "slide_type": "slide"
    }
   },
   "source": [
    "# REGEX | Funkcija `findall()`"
   ]
  },
  {
   "cell_type": "markdown",
   "metadata": {
    "slideshow": {
     "slide_type": "subslide"
    }
   },
   "source": [
    "```Python\n",
    "re.findall(pattern, string, flags=0)\n",
    "```"
   ]
  },
  {
   "cell_type": "markdown",
   "metadata": {
    "slideshow": {
     "slide_type": "subslide"
    }
   },
   "source": [
    "Funkcija vraća sve nepreklapajuća podudaranja uzorka `pattern` u stringu `string` kao listu stringova."
   ]
  },
  {
   "cell_type": "code",
   "execution_count": 6,
   "metadata": {
    "slideshow": {
     "slide_type": "subslide"
    }
   },
   "outputs": [
    {
     "name": "stdout",
     "output_type": "stream",
     "text": [
      "['ab', 'ab', 'ab']\n"
     ]
    }
   ],
   "source": [
    "matches = re.findall('ab','abbabbaab')\n",
    "print(matches)"
   ]
  },
  {
   "cell_type": "markdown",
   "metadata": {
    "slideshow": {
     "slide_type": "slide"
    }
   },
   "source": [
    "# REGEX | Funkcija `compile()`\n",
    "```python\n",
    "re.compile(pattern[,flags])\n",
    "``` \n",
    "Kompajliraj uzorak regularnog izraza u regex objekt koji se onda potom može koristiti u `match()` i `search()` metodama\n",
    "\n",
    "**Primjer**:\n",
    "```python\n",
    "prog = re.compile(pattern)\n",
    "result = prog.match(string)\n",
    "```\n",
    "je isto s\n",
    "```python\n",
    "result = re.match(pattern,string)\n",
    "```\n",
    "Koja je dobit od kompajliranja regularnog izraza?\n"
   ]
  },
  {
   "cell_type": "code",
   "execution_count": 7,
   "metadata": {
    "slideshow": {
     "slide_type": "subslide"
    }
   },
   "outputs": [
    {
     "name": "stdout",
     "output_type": "stream",
     "text": [
      "\"taj\": Nema MATCH :(\n",
      "\"ovo\": Nema MATCH :(\n",
      "\"Ima\": Ima MATCH :)!\n",
      "\"onaj\": Nema MATCH :(\n",
      "\"uzorak\": Nema MATCH :(\n",
      "\"taj\": Ima ga SEARCH :)!\n",
      "\"ovo\": Nema ga SEARCH :(\n",
      "\"Ima\": Ima ga SEARCH :)!\n",
      "\"onaj\": Nema ga SEARCH :(\n",
      "\"uzorak\": Ima ga SEARCH :)!\n"
     ]
    }
   ],
   "source": [
    "# regex | compile\n",
    "regexi = [ re.compile(p)\n",
    "    for p in [ 'taj', 'ovo' , 'Ima', 'onaj', 'uzorak']\n",
    "]\n",
    "\n",
    "tekst = 'Ima li ovaj tekst taj uzorak?'\n",
    "\n",
    "# regex | match\n",
    "for regex in regexi: \n",
    "    print('\"{}\":'.format(regex.pattern),end=' ')\n",
    "    if regex.match(tekst) : print('Ima MATCH :)!') \n",
    "    else: print('Nema MATCH :(')\n",
    "\n",
    "# regex | search\n",
    "for regex in regexi: \n",
    "    print('\"{}\":'.format(regex.pattern),end=' ')\n",
    "    if regex.search(tekst) : print('Ima ga SEARCH :)!') \n",
    "    else: print('Nema ga SEARCH :(')"
   ]
  },
  {
   "cell_type": "markdown",
   "metadata": {
    "slideshow": {
     "slide_type": "slide"
    }
   },
   "source": [
    "## Regex uzorci | specijalni znakovi\n",
    "\n",
    "Ugrađene klase znakova:\n",
    "\n",
    " > `\\s`\tpodudaraj bijeli prostor (engl. *white space*)\n",
    " \n",
    "> `\\S`\tpodudaraj ne-bijeli prostor\n",
    "\n",
    "> `\\d`\tpodudaraj znamenku\n",
    "\n",
    "> `\\D`\tpodudaraj ne-znamenku\n",
    "\n",
    "> `\\w`\tpodudaraj znak riječi: a-zA-Z0-9_\n",
    "\n",
    "> `\\W`\tpodudaraj znak koji nije znak riječi\n",
    "\n",
    "> `\\n`\tpodudaraj novi redak\n",
    "\n",
    "> `.`\t1 znak, podudaraj sve, osim `\\n`\n",
    "\n",
    "> `\\.`\t'despecijalizacija' posebnog znaka\n"
   ]
  },
  {
   "cell_type": "code",
   "execution_count": 8,
   "metadata": {
    "slideshow": {
     "slide_type": "subslide"
    }
   },
   "outputs": [
    {
     "name": "stdout",
     "output_type": "stream",
     "text": [
      "--------------------\n",
      "=> Uzorak \\d+ (niz znamenki)\n",
      "'Ovo je #1 primjer!'\n",
      " ........'1'\n",
      "--------------------\n",
      "=> Uzorak \\D+ (niz ne-znamenki)\n",
      "'Ovo je #1 primjer!'\n",
      " 'Ovo je #'\n",
      " .........' primjer!'\n",
      "--------------------\n",
      "=> Uzorak \\s+ (niz praznina)\n",
      "'Ovo je #1 primjer!'\n",
      " ...' '\n",
      " ......' '\n",
      " .........' '\n",
      "--------------------\n",
      "=> Uzorak \\S+ (niz ne-praznina)\n",
      "'Ovo je #1 primjer!'\n",
      " 'Ovo'\n",
      " ....'je'\n",
      " .......'#1'\n",
      " ..........'primjer!'\n",
      "--------------------\n",
      "=> Uzorak \\w+ (alfanumericki znakovi)\n",
      "'Ovo je #1 primjer!'\n",
      " 'Ovo'\n",
      " ....'je'\n",
      " ........'1'\n",
      " ..........'primjer'\n",
      "--------------------\n",
      "=> Uzorak \\W+ (ne-alfanumericki znakovi)\n",
      "'Ovo je #1 primjer!'\n",
      " ...' '\n",
      " ......' #'\n",
      " .........' '\n",
      " .................'!'\n"
     ]
    }
   ],
   "source": [
    "\n",
    "# regex | skraceni kodovi  ....\n",
    "\n",
    "test_re('Ovo je #1 primjer!', # string\n",
    "      # uzorci  \n",
    "    [ (r'\\d+', 'niz znamenki'),\n",
    "      (r'\\D+', 'niz ne-znamenki'),\n",
    "      (r'\\s+', 'niz praznina'),\n",
    "      (r'\\S+', 'niz ne-praznina'),\n",
    "      (r'\\w+', 'alfanumericki znakovi'),\n",
    "      (r'\\W+', 'ne-alfanumericki znakovi'),\n",
    "])"
   ]
  },
  {
   "cell_type": "markdown",
   "metadata": {
    "slideshow": {
     "slide_type": "slide"
    }
   },
   "source": [
    "## Regex uzorci | Klase\n",
    "\n",
    "Bilo koji jednostavni znak alfabeta se direktno podudara (engl. _match_).\n",
    "\n",
    "\n",
    "Možemo raditi vlastite **klase** s `[]`:\n",
    "\n",
    "> `[aB4-6]` podudara jedan od znakova `a,B,4,5,6` u danom stringu\n",
    "\n",
    "> `[^xy]`  podudara jedan od znakova, sve osim `x` i `y`\n"
   ]
  },
  {
   "cell_type": "code",
   "execution_count": 9,
   "metadata": {
    "slideshow": {
     "slide_type": "subslide"
    }
   },
   "outputs": [
    {
     "name": "stdout",
     "output_type": "stream",
     "text": [
      "--------------------\n",
      "=> Uzorak [ab] (ili a ili b)\n",
      "'abbaabbba'\n",
      " 'a'\n",
      " .'b'\n",
      " ..'b'\n",
      " ...'a'\n",
      " ....'a'\n",
      " .....'b'\n",
      " ......'b'\n",
      " .......'b'\n",
      " ........'a'\n",
      "--------------------\n",
      "=> Uzorak a[ab]+ (iza a slijedi 1 ili više a ili b)\n",
      "'abbaabbba'\n",
      " 'abbaabbba'\n",
      "--------------------\n",
      "=> Uzorak a[ab]+? (iza a slijedi 1 ili više a ili b, ne pohlepno)\n",
      "'abbaabbba'\n",
      " 'ab'\n",
      " ...'aa'\n",
      "--------------------\n",
      "=> Uzorak [^-. ]+ (niz bez -, ., i praznine (razmaknice))\n",
      "'Ovo je neki tekst -- s interpunkcijskim znacima.'\n",
      " 'Ovo'\n",
      " ....'je'\n",
      " .......'neki'\n",
      " ............'tekst'\n",
      " .....................'s'\n",
      " .......................'interpunkcijskim'\n",
      " ........................................'znacima'\n"
     ]
    }
   ],
   "source": [
    "## regex | klase\n",
    "test_re(\n",
    "\t'abbaabbba', # string\n",
    "\t# uzorci s opisom\n",
    "\t[ ('[ab]', 'ili a ili b'),\n",
    "\t('a[ab]+', 'iza a slijedi 1 ili više a ili b'),\n",
    "\t('a[ab]+?', 'iza a slijedi 1 ili više a ili b, ne pohlepno'),     \n",
    "])\n",
    "\n",
    "# regex | klase s izuzećem\n",
    "test_re(\n",
    "\t'Ovo je neki tekst -- s interpunkcijskim znacima.', # string\n",
    "\t[ ('[^-. ]+', 'niz bez -, ., i praznine (razmaknice)'), # uzorci\n",
    "])"
   ]
  },
  {
   "cell_type": "markdown",
   "metadata": {
    "slideshow": {
     "slide_type": "subslide"
    }
   },
   "source": [
    "# Regex uzorci | Kvantifikatori\n",
    "Jedan jednostavni znak se podudara sa samim sobom, **kvantifikator** kaže koliko puta se pojavljuje:\n",
    "> `?`\t0 ili 1 podudaranje\n",
    "\n",
    "> `+`\t1 ili više podudaranja\n",
    "\n",
    "> `*`\t0 ili više podudaranja\n",
    "\n",
    "Oznaka `{}` daje specifičnu kvantifikaciju:\n",
    "\n",
    "> `{4}`\t    4 puta\n",
    "\n",
    "> `{,3}`\tnajviše 3 puta\n",
    "\n",
    "> `{5,}`\tnajmanje 5 puta\n",
    "\n",
    "> `{3,5}`\tizmeđu 3 i 5 puta\n",
    "\n",
    "_Kvantifikatori su pohlepni: podudaraju što veći string. Mogu li biti ne pohlepni?_: **Dodati** `?`\n",
    "\n",
    "> `A{3,4}C?` -> podudaraj AAAC AAAAC\n",
    "\n",
    "> `\\s\\w{4}\\s`  -> podudaraj bilo koju 4-slovnu riječ u rečenici"
   ]
  },
  {
   "cell_type": "code",
   "execution_count": 10,
   "metadata": {
    "slideshow": {
     "slide_type": "slide"
    }
   },
   "outputs": [
    {
     "name": "stdout",
     "output_type": "stream",
     "text": [
      "--------------------\n",
      "=> Uzorak ab* (iza a slijede 0 ili više b)\n",
      "'abbaabbba'\n",
      " 'abb'\n",
      " ...'a'\n",
      " ....'abbb'\n",
      " ........'a'\n",
      "--------------------\n",
      "=> Uzorak ab+ (iza a slijede 1 ili više b)\n",
      "'abbaabbba'\n",
      " 'abb'\n",
      " ....'abbb'\n",
      "--------------------\n",
      "=> Uzorak ab? (iza a slijedi nijedan ili 1 b)\n",
      "'abbaabbba'\n",
      " 'ab'\n",
      " ...'a'\n",
      " ....'ab'\n",
      " ........'a'\n",
      "--------------------\n",
      "=> Uzorak ab{3} (iza a slijede 3 b)\n",
      "'abbaabbba'\n",
      " ....'abbb'\n",
      "--------------------\n",
      "=> Uzorak ab{2,3} (iza a slijede 2 ili 3 b)\n",
      "'abbaabbba'\n",
      " 'abb'\n",
      " ....'abbb'\n",
      "** NE POHLEPNI RE-KVANTIFIKATORI **\n",
      "--------------------\n",
      "=> Uzorak ab*? (iza a slijede 0 ili vise b)\n",
      "'abbaabbba'\n",
      " 'a'\n",
      " ...'a'\n",
      " ....'a'\n",
      " ........'a'\n",
      "--------------------\n",
      "=> Uzorak ab+? (iza a slijede 1 ili vise b)\n",
      "'abbaabbba'\n",
      " 'ab'\n",
      " ....'ab'\n",
      "--------------------\n",
      "=> Uzorak ab?? (iza a slijedi nijedan ili 1 b)\n",
      "'abbaabbba'\n",
      " 'a'\n",
      " ...'a'\n",
      " ....'a'\n",
      " ........'a'\n",
      "--------------------\n",
      "=> Uzorak ab{3}? (iza a slijede 3 b)\n",
      "'abbaabbba'\n",
      " ....'abbb'\n",
      "--------------------\n",
      "=> Uzorak ab{2,3}? (iza a slijede 2 ili 3 b)\n",
      "'abbaabbba'\n",
      " 'abb'\n",
      " ....'abb'\n"
     ]
    }
   ],
   "source": [
    "# regex | kvantifikatori\n",
    "test_re(\n",
    "'abbaabbba',\n",
    "[ ('ab*', 'iza a slijede 0 ili više b'),\n",
    "('ab+', 'iza a slijede 1 ili više b'),\n",
    "('ab?', 'iza a slijedi nijedan ili 1 b'),\n",
    "('ab{3}', 'iza a slijede 3 b'),\n",
    "('ab{2,3}', 'iza a slijede 2 ili 3 b'),\n",
    "])\n",
    "\n",
    "\n",
    " #regex | ne-pohlepni kvantifikatori\n",
    "print('** NE POHLEPNI RE-KVANTIFIKATORI **')\n",
    "test_re(\n",
    " 'abbaabbba',\n",
    " [ ('ab*?', 'iza a slijede 0 ili vise b'),\n",
    "   ('ab+?', 'iza a slijede 1 ili vise b'),\n",
    " ('ab??', 'iza a slijedi nijedan ili 1 b'),\n",
    " ('ab{3}?', 'iza a slijede 3 b'),\n",
    " ('ab{2,3}?', 'iza a slijede 2 ili 3 b'),\n",
    " ])"
   ]
  },
  {
   "cell_type": "markdown",
   "metadata": {
    "slideshow": {
     "slide_type": "subslide"
    }
   },
   "source": [
    "# REGEX uzorci | Grupe\n",
    "\n",
    "* `()` označavaju **grupe podudaranja** .\n",
    "> `ABC(xyz)?DEF` podudara `ABCDEF` i `ABCxyzDEF`. Zašto?\n",
    "\n",
    "* **Alternative**: znak `|`\n",
    "> `A(BC|DEF)G` podudara ili `ABCG` ili `ADEFG`\n",
    "\n",
    "* **Sidrišta**:\n",
    "  > `^` veži podudaranje s početkom stringa\n",
    "\n",
    "  > `$` veži podudaranje sa zadnjim znakom stringa\n",
    "\n",
    "  >  `\\b` veži podudaranje sa granicom riječi (zarez, bijeli prostor, ...)"
   ]
  },
  {
   "cell_type": "code",
   "execution_count": 11,
   "metadata": {
    "slideshow": {
     "slide_type": "subslide"
    }
   },
   "outputs": [
    {
     "name": "stdout",
     "output_type": "stream",
     "text": [
      "--------------------\n",
      "=> Uzorak a(ab) (iza a slijedi literal ab)\n",
      "'abbaaabbbbaaaaa'\n",
      " ....'aab'\n",
      "--------------------\n",
      "=> Uzorak a(a*b*) (iza a slijedi 0-n a-ova i 0-n b-ovo)\n",
      "'abbaaabbbbaaaaa'\n",
      " 'abb'\n",
      " ...'aaabbbb'\n",
      " ..........'aaaaa'\n",
      "--------------------\n",
      "=> Uzorak a(ab)* (iza a slijedi 0-n ab-ova)\n",
      "'abbaaabbbbaaaaa'\n",
      " 'a'\n",
      " ...'a'\n",
      " ....'aab'\n",
      " ..........'a'\n",
      " ...........'a'\n",
      " ............'a'\n",
      " .............'a'\n",
      " ..............'a'\n",
      "--------------------\n",
      "=> Uzorak a(ab)+ (iza a slijedi 1-n ab)\n",
      "'abbaaabbbbaaaaa'\n",
      " ....'aab'\n"
     ]
    }
   ],
   "source": [
    "\n",
    "# regex | skupine\n",
    "test_re(\n",
    "\t'abbaaabbbbaaaaa', # string\n",
    "\t[ # uzorci\n",
    "\t\t('a(ab)', 'iza a slijedi literal ab'),\n",
    "\t\t('a(a*b*)', 'iza a slijedi 0-n a-ova i 0-n b-ovo'),\n",
    "\t\t('a(ab)*', 'iza a slijedi 0-n ab-ova'),\n",
    "\t\t('a(ab)+', 'iza a slijedi 1-n ab'),\n",
    "\t])"
   ]
  },
  {
   "cell_type": "markdown",
   "metadata": {
    "slideshow": {
     "slide_type": "slide"
    }
   },
   "source": [
    "# REGEX | Zadatak\n",
    "Nadopunite sljedeći primjer s uzorcima  kako bi odgovaralo ispisu\n",
    "```python\n",
    "import re\n",
    "print(tekst)\n",
    "\n",
    "uzorci = [\n",
    "(r'.....', 'riječ na početku niza'),\n",
    "(r'.....', 'riječ na završetku niza, s dodatnim interpunkcijama'),\n",
    "(r'.....', 'riječ koja počinje s t, pa iduća riječ'),\n",
    "(r'.....', 'riječ koja završava sa slovom m'),\n",
    "]\n",
    "\n",
    " for uzorak, desc in uzorci:\n",
    "\tregex = re.compile(uzorak)\n",
    "\tnasli = regex.search(tekst)\n",
    "\tprint('%s\\n' % desc),\n",
    "\tprint(nasli.groups())\n",
    " \n",
    "```\n",
    "\n"
   ]
  },
  {
   "cell_type": "markdown",
   "metadata": {
    "slideshow": {
     "slide_type": "subslide"
    }
   },
   "source": [
    "```python\n",
    "# ispis\n",
    "\"Ovo je neki čudni tekst *$! sa ---!?*$.%- interpunkcijskim znakovima.\"\n",
    "riječ na početku niza: 'Ovo'\n",
    "riječ na završetku niza, s dodatnim interpunkcijama: 'znakovima.'\n",
    "riječ koja počinje s t, pa iduća riječ: 'tekst', 'sa'\n",
    "riječ koja završava sa slovom m: 'interpunkcijskim'\n",
    "```"
   ]
  },
  {
   "cell_type": "code",
   "execution_count": 15,
   "metadata": {},
   "outputs": [
    {
     "name": "stdout",
     "output_type": "stream",
     "text": [
      "--------------------\n",
      "=> Uzorak ^\\w+ (prva rijec)\n",
      "'Ovo je neki čudni tekst *$! sa ---!?*$.%- interpunkcijskim znakovima.'\n",
      " 'Ovo'\n",
      "--------------------\n",
      "=> Uzorak \\S+$ (zadnja rijec sa interpunkcijom)\n",
      "'Ovo je neki čudni tekst *$! sa ---!?*$.%- interpunkcijskim znakovima.'\n",
      " ...........................................................'znakovima.'\n",
      "--------------------\n",
      "=> Uzorak \\st\\S* \\S+ (pocinje sa t i sljedeca rijec)\n",
      "'Ovo je neki čudni tekst *$! sa ---!?*$.%- interpunkcijskim znakovima.'\n",
      " .................' tekst *$!'\n",
      "--------------------\n",
      "=> Uzorak \\S*m\\s (zavrsava sa m)\n",
      "'Ovo je neki čudni tekst *$! sa ---!?*$.%- interpunkcijskim znakovima.'\n",
      " ..........................................'interpunkcijskim '\n"
     ]
    }
   ],
   "source": [
    "text = \"Ovo je neki čudni tekst *$! sa ---!?*$.%- interpunkcijskim znakovima.\"\n",
    "\n",
    "test_re(text,\n",
    "       [\n",
    "           ('^\\w+', 'prva rijec'),\n",
    "           ('\\S+$', 'zadnja rijec sa interpunkcijom'),\n",
    "           ('\\st\\S* \\S+', 'pocinje sa t i sljedeca rijec'),\n",
    "           ('\\S*m\\s', 'zavrsava sa m')\n",
    "       ])"
   ]
  },
  {
   "cell_type": "code",
   "execution_count": null,
   "metadata": {},
   "outputs": [],
   "source": []
  }
 ],
 "metadata": {
  "celltoolbar": "Slideshow",
  "kernelspec": {
   "display_name": "Python 3",
   "language": "python",
   "name": "python3"
  },
  "language_info": {
   "codemirror_mode": {
    "name": "ipython",
    "version": 3
   },
   "file_extension": ".py",
   "mimetype": "text/x-python",
   "name": "python",
   "nbconvert_exporter": "python",
   "pygments_lexer": "ipython3",
   "version": "3.9.16"
  },
  "livereveal": {
   "scroll": true,
   "start_slideshow_at": "selected",
   "theme": "sky",
   "transition": "zoom"
  }
 },
 "nbformat": 4,
 "nbformat_minor": 4
}
