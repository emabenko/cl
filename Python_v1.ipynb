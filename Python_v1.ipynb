{
 "cells": [
  {
   "cell_type": "markdown",
   "metadata": {},
   "source": [
    "# V1: Python string parsiranje\n",
    "\n",
    "\n",
    "Što ćemo naučiti?\n",
    "  * pisati Jupyter bilježnice s Pythonom i Markdown jezikom\n",
    "  * ponoviti osnovne strukture podataka iz Pythona\n",
    "  * rad sa Python stringovima\n",
    "  * dolaženje do tekstualnih informacija struganjem web-a (web scraping)"
   ]
  },
  {
   "cell_type": "markdown",
   "metadata": {},
   "source": [
    "## 1.1 Tipovi podataka"
   ]
  },
  {
   "cell_type": "markdown",
   "metadata": {},
   "source": [
    "Ponovimo ukratko Python tipove podataka"
   ]
  },
  {
   "cell_type": "code",
   "execution_count": 1,
   "metadata": {},
   "outputs": [
    {
     "name": "stdout",
     "output_type": "stream",
     "text": [
      "The Zen of Python, by Tim Peters\n",
      "\n",
      "Beautiful is better than ugly.\n",
      "Explicit is better than implicit.\n",
      "Simple is better than complex.\n",
      "Complex is better than complicated.\n",
      "Flat is better than nested.\n",
      "Sparse is better than dense.\n",
      "Readability counts.\n",
      "Special cases aren't special enough to break the rules.\n",
      "Although practicality beats purity.\n",
      "Errors should never pass silently.\n",
      "Unless explicitly silenced.\n",
      "In the face of ambiguity, refuse the temptation to guess.\n",
      "There should be one-- and preferably only one --obvious way to do it.\n",
      "Although that way may not be obvious at first unless you're Dutch.\n",
      "Now is better than never.\n",
      "Although never is often better than *right* now.\n",
      "If the implementation is hard to explain, it's a bad idea.\n",
      "If the implementation is easy to explain, it may be a good idea.\n",
      "Namespaces are one honking great idea -- let's do more of those!\n"
     ]
    }
   ],
   "source": [
    "import this "
   ]
  },
  {
   "cell_type": "code",
   "execution_count": 1,
   "metadata": {},
   "outputs": [
    {
     "name": "stdout",
     "output_type": "stream",
     "text": [
      "<class 'complex'>\n",
      "<class 'str'>\n",
      "<class 'int'>\n",
      "<class 'complex'>\n",
      "<class 'dict'>\n",
      "<class 'float'>\n",
      "<class 'str'>\n",
      "<class 'list'>\n",
      "<class 'list'>\n",
      "<class 'tuple'>\n"
     ]
    }
   ],
   "source": [
    "#tipovi podataka\n",
    "x = [3+4j, '3+4j',3,4j, {3:4j}, 4.3, \"3+4j\", [3,5], [4j], (1,2)]\n",
    "\n",
    "for i in x:\n",
    "    print(type(i))"
   ]
  },
  {
   "cell_type": "code",
   "execution_count": null,
   "metadata": {},
   "outputs": [],
   "source": [
    "# Primjeri pretvaranja tipova (casting) u Pythonu\n",
    "x = \"123\"\n",
    "print(x, \"->\", int(x), type(int(x)).__name__)\n",
    "print(x, \"->\", float(x), type(float(x)).__name__)\n",
    "\n",
    "s = \"3+4j\"\n",
    "print(s, \"->\", complex(s), type(complex(s)).__name__)\n",
    "print(3+4j, \"->\", str(3+4j), type(str(3+4j)).__name__)\n",
    "\n",
    "print(\"abc\", \"->\", list(\"abc\"), type(list(\"abc\")).__name__)\n",
    "print([1,2,3], \"->\", tuple([1,2,3]), type(tuple([1,2,3])).__name__)\n",
    "\n",
    "d = dict([(\"a\",1),(\"b\",2)])\n",
    "print(\"dict from list of pairs ->\", d, type(d).__name__)\n",
    "print(\"dict keys ->\", list(d.keys()))\n",
    "print(\"dict items ->\", list(d.items()))\n",
    "\n",
    "print(\"set from list ->\", set([1,2,2,3]))\n",
    "print(\"bytes ->\", bytes(\"pozdrav\",\"utf-8\"))\n",
    "print(\"bytes -> str ->\", str(bytes(\"pozdrav\",\"utf-8\"), \"utf-8\"))\n",
    "\n",
    "# Sigurna konverzija s try/except\n",
    "def to_int_safe(s):\n",
    "    try:\n",
    "        return int(s)\n",
    "    except (ValueError, TypeError):\n",
    "        return None\n",
    "\n",
    "print(\"to_int_safe('12') ->\", to_int_safe(\"12\"))\n",
    "print(\"to_int_safe('abc') ->\", to_int_safe(\"abc\"))"
   ]
  },
  {
   "cell_type": "code",
   "execution_count": null,
   "metadata": {},
   "outputs": [],
   "source": [
    "# Primjeri razdvajanja stringova u Pythonu\n",
    "import re\n",
    "\n",
    "s = \"jabuka,banana,trešnja\"\n",
    "print(s.split(\",\"))                # ['jabuka', 'banana', 'trešnja']\n",
    "\n",
    "s2 = \"  ovo   je   test  \"\n",
    "print(s2.split())                  # razdvaja po whitespaceu -> ['ovo','je','test']\n",
    "\n",
    "s3 = \"ime:prezime:godine\"\n",
    "print(s3.split(\":\", 1))            # maxsplit=1 -> ['ime', 'prezime:godine']\n",
    "print(s3.rsplit(\":\", 1))           # rsplit -> ['ime:prezime','godine']\n",
    "\n",
    "p = \"key=value\"\n",
    "print(p.partition(\"=\"))            # ('key', '=', 'value') -> lako dohvatiti prije/poslije\n",
    "\n",
    "multiline = \"linija1\\nlinija2\\n\"\n",
    "print(multiline.splitlines())      # ['linija1','linija2']\n",
    "\n",
    "# više različitih separatora - regex\n",
    "s4 = \"a;b, c;d\"\n",
    "print(re.split(r'[;,]\\s*', s4))    # ['a','b','c','d']\n",
    "\n",
    "# spajanje natrag\n",
    "parts = [\"a\",\"b\",\"c\"]\n",
    "print(\",\".join(parts))             # 'a,b,c'\n",
    "\n",
    "# alternativno: ručno razdvajanje koristeći find/slicing\n",
    "s5 = \"abc->def\"\n",
    "i = s5.find(\"->\")\n",
    "if i != -1:\n",
    "    left, right = s5[:i], s5[i+2:]\n",
    "    print(left, right)             # 'abc' 'def'"
   ]
  },
  {
   "cell_type": "markdown",
   "metadata": {},
   "source": [
    "## Strukture podataka u Pythonu"
   ]
  },
  {
   "cell_type": "code",
   "execution_count": null,
   "metadata": {},
   "outputs": [],
   "source": [
    "# Lista (mutabilna, može sadržavati različite tipove)\n",
    "lst = [1, 2.5, 3+0j]\n",
    "lst.append(4)\n",
    "print(\"lista:\", lst, \"-> tip:\", type(lst).__name__, \"prvi:\", lst[0], \"slice:\", lst[1:3])\n",
    "\n",
    "# Tuple (nemutabilna)\n",
    "t = (10, 20, 30)\n",
    "a, b, c = t\n",
    "print(\"tuple:\", t, \"-> tip:\", type(t).__name__, \"unpack:\", a, b, c)\n",
    "\n",
    "# Set (neuređeno, jedinstveni elementi)\n",
    "s = {1, 2, 3}\n",
    "s.add(2)           # ne dodaje duplikat\n",
    "s.add(4)\n",
    "print(\"set:\", s, \"-> tip:\", type(s).__name__)\n",
    "print(\"membership:\", 3 in s)\n",
    "\n",
    "# Frozenset (nepromjenjivi set)\n",
    "fs = frozenset([1,2,3])\n",
    "print(\"frozenset:\", fs, \"-> tip:\", type(fs).__name__)\n",
    "\n",
    "# Dictionary (mapa ključ->vrijednost)\n",
    "d = {1: \"jedan\", 2: \"dva\"}\n",
    "d[3] = \"tri\"\n",
    "print(\"dict:\", d, \"keys:\", list(d.keys()), \"values:\", list(d.values()))\n",
    "print(\"get safe:\", d.get(4, \"nije pronađeno\"))\n",
    "\n",
    "# Range (lijep za petlje, lazy sekvenca)\n",
    "r = range(0, 10, 2)\n",
    "print(\"range:\", list(r), \"-> tip:\", type(r).__name__)\n",
    "\n",
    "# Bytes / bytearray (bajtni nizovi)\n",
    "b = bytes([0,1,2,255])\n",
    "ba = bytearray(b)\n",
    "ba[0] = 9\n",
    "print(\"bytes:\", b, \"bytearray:\", ba)\n",
    "\n",
    "# Brojevi (int, float, complex)\n",
    "n = 42\n",
    "f = 3.14\n",
    "c = 1+2j\n",
    "print(\"int, float, complex:\", n, f, c)"
   ]
  }
 ],
 "metadata": {
  "kernelspec": {
   "display_name": "base",
   "language": "python",
   "name": "python3"
  },
  "language_info": {
   "codemirror_mode": {
    "name": "ipython",
    "version": 3
   },
   "file_extension": ".py",
   "mimetype": "text/x-python",
   "name": "python",
   "nbconvert_exporter": "python",
   "pygments_lexer": "ipython3",
   "version": "3.10.9"
  },
  "orig_nbformat": 4
 },
 "nbformat": 4,
 "nbformat_minor": 2
}
